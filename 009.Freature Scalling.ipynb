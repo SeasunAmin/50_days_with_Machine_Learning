{
 "cells": [
  {
   "cell_type": "markdown",
   "id": "178e4325",
   "metadata": {},
   "source": [
    "# Freature Scalling -- Standardizaion\n",
    "This Algorithm needs Standardization\n",
    "* KNN\n",
    "* K means\n",
    "* PCA\n",
    "* ANN\n",
    "* GD"
   ]
  },
  {
   "cell_type": "code",
   "execution_count": 1,
   "id": "09da18d3",
   "metadata": {},
   "outputs": [],
   "source": [
    "import numpy as np\n",
    "import pandas as pd\n",
    "import matplotlib.pyplot as plt\n",
    "import seaborn as sns"
   ]
  },
  {
   "cell_type": "code",
   "execution_count": 2,
   "id": "cacfcb0b",
   "metadata": {},
   "outputs": [
    {
     "data": {
      "text/html": [
       "<div>\n",
       "<style scoped>\n",
       "    .dataframe tbody tr th:only-of-type {\n",
       "        vertical-align: middle;\n",
       "    }\n",
       "\n",
       "    .dataframe tbody tr th {\n",
       "        vertical-align: top;\n",
       "    }\n",
       "\n",
       "    .dataframe thead th {\n",
       "        text-align: right;\n",
       "    }\n",
       "</style>\n",
       "<table border=\"1\" class=\"dataframe\">\n",
       "  <thead>\n",
       "    <tr style=\"text-align: right;\">\n",
       "      <th></th>\n",
       "      <th>total_bill</th>\n",
       "      <th>tip</th>\n",
       "      <th>sex</th>\n",
       "      <th>smoker</th>\n",
       "      <th>day</th>\n",
       "      <th>time</th>\n",
       "      <th>size</th>\n",
       "    </tr>\n",
       "  </thead>\n",
       "  <tbody>\n",
       "    <tr>\n",
       "      <th>0</th>\n",
       "      <td>16.99</td>\n",
       "      <td>1.01</td>\n",
       "      <td>Female</td>\n",
       "      <td>No</td>\n",
       "      <td>Sun</td>\n",
       "      <td>Dinner</td>\n",
       "      <td>2</td>\n",
       "    </tr>\n",
       "    <tr>\n",
       "      <th>1</th>\n",
       "      <td>10.34</td>\n",
       "      <td>1.66</td>\n",
       "      <td>Male</td>\n",
       "      <td>No</td>\n",
       "      <td>Sun</td>\n",
       "      <td>Dinner</td>\n",
       "      <td>3</td>\n",
       "    </tr>\n",
       "    <tr>\n",
       "      <th>2</th>\n",
       "      <td>21.01</td>\n",
       "      <td>3.50</td>\n",
       "      <td>Male</td>\n",
       "      <td>No</td>\n",
       "      <td>Sun</td>\n",
       "      <td>Dinner</td>\n",
       "      <td>3</td>\n",
       "    </tr>\n",
       "    <tr>\n",
       "      <th>3</th>\n",
       "      <td>23.68</td>\n",
       "      <td>3.31</td>\n",
       "      <td>Male</td>\n",
       "      <td>No</td>\n",
       "      <td>Sun</td>\n",
       "      <td>Dinner</td>\n",
       "      <td>2</td>\n",
       "    </tr>\n",
       "    <tr>\n",
       "      <th>4</th>\n",
       "      <td>24.59</td>\n",
       "      <td>3.61</td>\n",
       "      <td>Female</td>\n",
       "      <td>No</td>\n",
       "      <td>Sun</td>\n",
       "      <td>Dinner</td>\n",
       "      <td>4</td>\n",
       "    </tr>\n",
       "  </tbody>\n",
       "</table>\n",
       "</div>"
      ],
      "text/plain": [
       "   total_bill   tip     sex smoker  day    time  size\n",
       "0       16.99  1.01  Female     No  Sun  Dinner     2\n",
       "1       10.34  1.66    Male     No  Sun  Dinner     3\n",
       "2       21.01  3.50    Male     No  Sun  Dinner     3\n",
       "3       23.68  3.31    Male     No  Sun  Dinner     2\n",
       "4       24.59  3.61  Female     No  Sun  Dinner     4"
      ]
     },
     "execution_count": 2,
     "metadata": {},
     "output_type": "execute_result"
    }
   ],
   "source": [
    "df = sns.load_dataset(\"tips\")\n",
    "df.head()"
   ]
  },
  {
   "cell_type": "code",
   "execution_count": 3,
   "id": "791395c2",
   "metadata": {},
   "outputs": [
    {
     "data": {
      "text/plain": [
       "(244, 7)"
      ]
     },
     "execution_count": 3,
     "metadata": {},
     "output_type": "execute_result"
    }
   ],
   "source": [
    "df.shape"
   ]
  },
  {
   "cell_type": "code",
   "execution_count": 4,
   "id": "313037eb",
   "metadata": {},
   "outputs": [
    {
     "data": {
      "text/plain": [
       "total_bill    0\n",
       "tip           0\n",
       "sex           0\n",
       "smoker        0\n",
       "day           0\n",
       "time          0\n",
       "size          0\n",
       "dtype: int64"
      ]
     },
     "execution_count": 4,
     "metadata": {},
     "output_type": "execute_result"
    }
   ],
   "source": [
    "df.isnull().sum()"
   ]
  },
  {
   "cell_type": "code",
   "execution_count": 5,
   "id": "1e6fe4fc",
   "metadata": {},
   "outputs": [
    {
     "data": {
      "text/html": [
       "<div>\n",
       "<style scoped>\n",
       "    .dataframe tbody tr th:only-of-type {\n",
       "        vertical-align: middle;\n",
       "    }\n",
       "\n",
       "    .dataframe tbody tr th {\n",
       "        vertical-align: top;\n",
       "    }\n",
       "\n",
       "    .dataframe thead th {\n",
       "        text-align: right;\n",
       "    }\n",
       "</style>\n",
       "<table border=\"1\" class=\"dataframe\">\n",
       "  <thead>\n",
       "    <tr style=\"text-align: right;\">\n",
       "      <th></th>\n",
       "      <th>total_bill</th>\n",
       "      <th>tip</th>\n",
       "      <th>size</th>\n",
       "    </tr>\n",
       "  </thead>\n",
       "  <tbody>\n",
       "    <tr>\n",
       "      <th>0</th>\n",
       "      <td>16.99</td>\n",
       "      <td>1.01</td>\n",
       "      <td>2</td>\n",
       "    </tr>\n",
       "    <tr>\n",
       "      <th>1</th>\n",
       "      <td>10.34</td>\n",
       "      <td>1.66</td>\n",
       "      <td>3</td>\n",
       "    </tr>\n",
       "    <tr>\n",
       "      <th>2</th>\n",
       "      <td>21.01</td>\n",
       "      <td>3.50</td>\n",
       "      <td>3</td>\n",
       "    </tr>\n",
       "    <tr>\n",
       "      <th>3</th>\n",
       "      <td>23.68</td>\n",
       "      <td>3.31</td>\n",
       "      <td>2</td>\n",
       "    </tr>\n",
       "    <tr>\n",
       "      <th>4</th>\n",
       "      <td>24.59</td>\n",
       "      <td>3.61</td>\n",
       "      <td>4</td>\n",
       "    </tr>\n",
       "  </tbody>\n",
       "</table>\n",
       "</div>"
      ],
      "text/plain": [
       "   total_bill   tip  size\n",
       "0       16.99  1.01     2\n",
       "1       10.34  1.66     3\n",
       "2       21.01  3.50     3\n",
       "3       23.68  3.31     2\n",
       "4       24.59  3.61     4"
      ]
     },
     "execution_count": 5,
     "metadata": {},
     "output_type": "execute_result"
    }
   ],
   "source": [
    "df = df[['total_bill','tip','size']]\n",
    "df.head()"
   ]
  },
  {
   "cell_type": "markdown",
   "id": "7b90f889",
   "metadata": {},
   "source": [
    "# x & y splite "
   ]
  },
  {
   "cell_type": "code",
   "execution_count": 6,
   "id": "a595bd39",
   "metadata": {},
   "outputs": [
    {
     "data": {
      "text/html": [
       "<div>\n",
       "<style scoped>\n",
       "    .dataframe tbody tr th:only-of-type {\n",
       "        vertical-align: middle;\n",
       "    }\n",
       "\n",
       "    .dataframe tbody tr th {\n",
       "        vertical-align: top;\n",
       "    }\n",
       "\n",
       "    .dataframe thead th {\n",
       "        text-align: right;\n",
       "    }\n",
       "</style>\n",
       "<table border=\"1\" class=\"dataframe\">\n",
       "  <thead>\n",
       "    <tr style=\"text-align: right;\">\n",
       "      <th></th>\n",
       "      <th>total_bill</th>\n",
       "      <th>tip</th>\n",
       "    </tr>\n",
       "  </thead>\n",
       "  <tbody>\n",
       "    <tr>\n",
       "      <th>0</th>\n",
       "      <td>16.99</td>\n",
       "      <td>1.01</td>\n",
       "    </tr>\n",
       "    <tr>\n",
       "      <th>1</th>\n",
       "      <td>10.34</td>\n",
       "      <td>1.66</td>\n",
       "    </tr>\n",
       "    <tr>\n",
       "      <th>2</th>\n",
       "      <td>21.01</td>\n",
       "      <td>3.50</td>\n",
       "    </tr>\n",
       "    <tr>\n",
       "      <th>3</th>\n",
       "      <td>23.68</td>\n",
       "      <td>3.31</td>\n",
       "    </tr>\n",
       "    <tr>\n",
       "      <th>4</th>\n",
       "      <td>24.59</td>\n",
       "      <td>3.61</td>\n",
       "    </tr>\n",
       "  </tbody>\n",
       "</table>\n",
       "</div>"
      ],
      "text/plain": [
       "   total_bill   tip\n",
       "0       16.99  1.01\n",
       "1       10.34  1.66\n",
       "2       21.01  3.50\n",
       "3       23.68  3.31\n",
       "4       24.59  3.61"
      ]
     },
     "execution_count": 6,
     "metadata": {},
     "output_type": "execute_result"
    }
   ],
   "source": [
    "x = df.drop(\"size\",axis=1)\n",
    "y = df[['size']]\n",
    "\n",
    "x.head()"
   ]
  },
  {
   "cell_type": "code",
   "execution_count": 7,
   "id": "60e828a3",
   "metadata": {},
   "outputs": [
    {
     "data": {
      "text/html": [
       "<div>\n",
       "<style scoped>\n",
       "    .dataframe tbody tr th:only-of-type {\n",
       "        vertical-align: middle;\n",
       "    }\n",
       "\n",
       "    .dataframe tbody tr th {\n",
       "        vertical-align: top;\n",
       "    }\n",
       "\n",
       "    .dataframe thead th {\n",
       "        text-align: right;\n",
       "    }\n",
       "</style>\n",
       "<table border=\"1\" class=\"dataframe\">\n",
       "  <thead>\n",
       "    <tr style=\"text-align: right;\">\n",
       "      <th></th>\n",
       "      <th>size</th>\n",
       "    </tr>\n",
       "  </thead>\n",
       "  <tbody>\n",
       "    <tr>\n",
       "      <th>0</th>\n",
       "      <td>2</td>\n",
       "    </tr>\n",
       "    <tr>\n",
       "      <th>1</th>\n",
       "      <td>3</td>\n",
       "    </tr>\n",
       "    <tr>\n",
       "      <th>2</th>\n",
       "      <td>3</td>\n",
       "    </tr>\n",
       "    <tr>\n",
       "      <th>3</th>\n",
       "      <td>2</td>\n",
       "    </tr>\n",
       "    <tr>\n",
       "      <th>4</th>\n",
       "      <td>4</td>\n",
       "    </tr>\n",
       "  </tbody>\n",
       "</table>\n",
       "</div>"
      ],
      "text/plain": [
       "   size\n",
       "0     2\n",
       "1     3\n",
       "2     3\n",
       "3     2\n",
       "4     4"
      ]
     },
     "execution_count": 7,
     "metadata": {},
     "output_type": "execute_result"
    }
   ],
   "source": [
    " y.head()"
   ]
  },
  {
   "cell_type": "markdown",
   "id": "eae0d71a",
   "metadata": {},
   "source": [
    "# Train Test Splite"
   ]
  },
  {
   "cell_type": "code",
   "execution_count": 8,
   "id": "7d036f7a",
   "metadata": {},
   "outputs": [
    {
     "data": {
      "text/plain": [
       "((195, 2), (195, 1))"
      ]
     },
     "execution_count": 8,
     "metadata": {},
     "output_type": "execute_result"
    }
   ],
   "source": [
    "\n",
    "from sklearn.model_selection import train_test_split\n",
    "\n",
    "xtrain,xtest,ytrain,ytest = train_test_split(x,y,test_size=0.2,random_state=1)\n",
    "\n",
    "xtrain.shape,ytrain.shape"
   ]
  },
  {
   "cell_type": "markdown",
   "id": "c8d6bafa",
   "metadata": {},
   "source": [
    "# Standard Scaller"
   ]
  },
  {
   "cell_type": "code",
   "execution_count": 9,
   "id": "bf39bbe6",
   "metadata": {},
   "outputs": [],
   "source": [
    "from sklearn.preprocessing import StandardScaler\n",
    "\n",
    "scaller = StandardScaler()"
   ]
  },
  {
   "cell_type": "code",
   "execution_count": 30,
   "id": "e4b6c5ad",
   "metadata": {},
   "outputs": [
    {
     "data": {
      "text/plain": [
       "array([19.53061538,  2.93492308])"
      ]
     },
     "execution_count": 30,
     "metadata": {},
     "output_type": "execute_result"
    }
   ],
   "source": [
    "scaller.fit(xtrain)\n",
    "\n",
    "xtrain_scalled = scaller.transform(xtrain)\n",
    "xtest_scalled = scaller.transform(xtest)\n",
    "\n",
    "scaller.mean_"
   ]
  },
  {
   "cell_type": "code",
   "execution_count": 22,
   "id": "eb8cf5bb",
   "metadata": {},
   "outputs": [
    {
     "data": {
      "text/plain": [
       "array([[-2.86119371e-01, -1.47443803e+00],\n",
       "       [ 2.69590494e-02, -7.16125310e-01],\n",
       "       [ 1.37161960e+00,  1.19880579e+00],\n",
       "       [-6.22847600e-01,  4.98471295e-02],\n",
       "       [-3.67204429e-01, -3.33139090e-01],\n",
       "       [-1.34810840e+00, -1.14506988e+00],\n",
       "       [ 2.36716393e+00,  4.98471295e-02],\n",
       "       [ 1.30567735e-01,  1.58179201e+00],\n",
       "       [ 2.44312053e-01,  1.04561130e+00],\n",
       "       [-1.03615616e+00, -9.68896215e-01],\n",
       "       [-1.09809614e+00, -9.22937869e-01],\n",
       "       [ 1.49775192e+00, -1.35188244e+00],\n",
       "       [-7.80512991e-01, -1.48209775e+00],\n",
       "       [-1.00237072e+00, -7.16125310e-01],\n",
       "       [ 3.63687278e-01,  4.98471295e-02],\n",
       "       [ 1.44932612e+00,  2.34776445e+00],\n",
       "       [-3.32292807e-01,  8.15819569e-01],\n",
       "       [-3.93106601e-01, -5.32291925e-01],\n",
       "       [-1.38302002e+00,  1.69668787e+00],\n",
       "       [-2.27557940e-01,  4.98471295e-02],\n",
       "       [-6.91544663e-01, -2.48882122e-01],\n",
       "       [-7.96279530e-01, -1.09911153e+00],\n",
       "       [ 1.38738614e+00,  1.87722169e-01],\n",
       "       [-1.84763048e-01, -7.16125310e-01],\n",
       "       [ 2.32436904e+00,  1.37497945e+00],\n",
       "       [ 3.23657595e+00,  2.90692433e+00],\n",
       "       [ 2.78948194e+00, -3.33139090e-01],\n",
       "       [-8.62724231e-01, -9.99535113e-01],\n",
       "       [-3.99863689e-01,  4.98471295e-02],\n",
       "       [ 5.83292645e-01,  2.23286858e+00],\n",
       "       [-5.29374546e-01,  6.51665783e-02],\n",
       "       [-6.88166119e-01,  4.17513901e-01],\n",
       "       [ 8.55204805e-02, -1.41645980e-01],\n",
       "       [ 2.08111386e+00,  4.98471295e-02],\n",
       "       [-7.62494089e-01, -5.39951649e-01],\n",
       "       [-4.57402894e-03,  4.40493074e-01],\n",
       "       [ 6.95910782e-01,  8.15819569e-01],\n",
       "       [-3.99863689e-01, -6.93146137e-01],\n",
       "       [-1.08007724e+00, -1.05315318e+00],\n",
       "       [-5.07474650e-02, -1.09911153e+00],\n",
       "       [-3.05264454e-01,  8.15819569e-01],\n",
       "       [ 1.70046456e+00,  4.71131971e-01],\n",
       "       [-8.82995496e-01, -4.78673854e-01],\n",
       "       [-6.29604688e-01,  9.58054759e-02],\n",
       "       [-3.64952067e-01,  5.93687562e-01],\n",
       "       [ 6.48611164e-01,  1.35966000e+00],\n",
       "       [ 2.90773099e+00,  4.32833349e-01],\n",
       "       [-9.24161756e-02,  8.15819569e-01],\n",
       "       [ 1.01574629e+00, -6.77826688e-01],\n",
       "       [ 2.65546636e+00,  1.58179201e+00],\n",
       "       [-3.46933165e-01, -3.56118263e-01],\n",
       "       [-8.45831511e-01, -7.39104483e-01],\n",
       "       [ 9.72951398e-01,  2.73075067e+00],\n",
       "       [ 2.08787095e+00,  8.15819569e-01],\n",
       "       [-1.03502998e+00, -7.16125310e-01],\n",
       "       [ 6.79018061e-01,  1.07625020e+00],\n",
       "       [-9.86604182e-01, -1.12209070e+00],\n",
       "       [ 1.66605539e-01,  4.98471295e-02],\n",
       "       [-7.03932658e-01, -1.64625154e-01],\n",
       "       [-5.64286169e-01, -7.16125310e-01],\n",
       "       [-1.45346700e-01,  6.31986184e-01],\n",
       "       [-1.25914007e+00, -1.09911153e+00],\n",
       "       [-8.44705329e-01, -1.09911153e+00],\n",
       "       [-1.06543688e+00, -8.46340625e-01],\n",
       "       [-4.03242233e-01, -7.16125310e-01],\n",
       "       [-4.69686934e-01, -9.91875388e-01],\n",
       "       [-8.92004947e-01,  3.48576381e-01],\n",
       "       [ 3.62561097e-01,  2.41340239e-01],\n",
       "       [-2.55712474e-01, -1.49305705e-01],\n",
       "       [-4.62929846e-01, -1.04549346e+00],\n",
       "       [-6.44245046e-01, -7.16125310e-01],\n",
       "       [-3.97611326e-01, -7.16125310e-01],\n",
       "       [-1.23323790e+00, -7.77403105e-01],\n",
       "       [-1.00687545e+00, -1.01485456e+00],\n",
       "       [ 3.14637748e-02,  9.61354333e-01],\n",
       "       [-6.78030487e-01, -7.16125310e-01],\n",
       "       [ 5.04459949e-01, -7.16125310e-01],\n",
       "       [-3.23283356e-01,  3.56236105e-01],\n",
       "       [-7.94027168e-01, -3.17819641e-01],\n",
       "       [ 2.21788426e-01,  4.32833349e-01],\n",
       "       [-7.73755903e-01, -3.33139090e-01],\n",
       "       [-1.23949254e-01,  4.98471295e-02],\n",
       "       [ 9.70699036e-01,  4.98471295e-02],\n",
       "       [ 1.38451005e-01, -5.32291925e-01],\n",
       "       [-1.39715793e-01,  4.98471295e-02],\n",
       "       [-3.42428439e-01, -7.16125310e-01],\n",
       "       [ 3.25397112e-01,  4.17513901e-01],\n",
       "       [-3.62699704e-01, -7.16125310e-01],\n",
       "       [-7.35465737e-01, -7.16125310e-01],\n",
       "       [ 1.03539382e-01,  4.98471295e-02],\n",
       "       [-4.32522949e-01, -1.09911153e+00],\n",
       "       [-4.50541851e-01,  4.98471295e-02],\n",
       "       [-1.01588490e+00, -1.29060464e+00],\n",
       "       [-6.14964330e-01, -3.33139090e-01],\n",
       "       [ 7.16182046e-01,  1.70434760e+00],\n",
       "       [ 4.01977445e-01,  8.15819569e-01],\n",
       "       [ 1.66605539e-01,  4.32833349e-01],\n",
       "       [ 1.23084693e+00, -7.16125310e-01],\n",
       "       [-1.21184046e+00, -7.16125310e-01],\n",
       "       [-3.44680802e-01,  2.26020791e-01],\n",
       "       [-1.92646317e-01, -9.07618420e-01],\n",
       "       [ 8.63711806e-01,  8.15819569e-01],\n",
       "       [ 4.97702861e-01, -2.94840468e-01],\n",
       "       [ 6.18706718e-02,  1.64742995e-01],\n",
       "       [-7.20825379e-01, -7.16125310e-01],\n",
       "       [ 3.03999666e-01,  1.58179201e+00],\n",
       "       [-5.40636360e-01, -5.62930822e-01],\n",
       "       [-1.55194723e+00, -1.48209775e+00],\n",
       "       [ 1.70271692e+00,  5.70708388e-01],\n",
       "       [-1.40841974e-01,  8.15819569e-01],\n",
       "       [ 8.46819085e-01,  1.58179201e+00],\n",
       "       [-4.19008772e-01,  1.72402720e-01],\n",
       "       [-1.04291325e+00, -9.38257318e-01],\n",
       "       [-3.73961518e-01, -7.16125310e-01],\n",
       "       [-5.03472375e-01,  4.98471295e-02],\n",
       "       [-1.03615616e+00, -7.16125310e-01],\n",
       "       [ 1.48085920e+00,  1.58179201e+00],\n",
       "       [-4.56172757e-01, -7.00805861e-01],\n",
       "       [ 5.61895199e-01,  4.17513901e-01],\n",
       "       [ 1.16214987e+00,  1.68902815e+00],\n",
       "       [-9.21285662e-01, -3.33139090e-01],\n",
       "       [ 1.15651896e+00,  9.69014057e-01],\n",
       "       [ 2.23990544e+00,  3.55800090e+00],\n",
       "       [-1.23999499e+00, -1.11443098e+00],\n",
       "       [-5.35005453e-01,  2.26020791e-01],\n",
       "       [ 5.33740665e-01, -6.93146137e-01],\n",
       "       [ 1.56469907e-01,  8.77097364e-01],\n",
       "       [ 5.65273743e-01, -7.16125310e-01],\n",
       "       [-1.55482332e-01,  4.32833349e-01],\n",
       "       [-1.24112117e+00, -1.29060464e+00],\n",
       "       [-1.38302002e+00, -1.48209775e+00],\n",
       "       [ 2.91611671e-01, -4.20695632e-02],\n",
       "       [-2.18548489e-01, -2.25902949e-01],\n",
       "       [ 2.30797877e-01,  7.54541774e-01],\n",
       "       [-2.33188847e-01, -3.02500193e-01],\n",
       "       [-7.64746452e-01, -7.08465586e-01],\n",
       "       [-5.87935977e-01,  8.15819569e-01],\n",
       "       [-1.02049358e-02,  4.98471295e-02],\n",
       "       [ 1.72073583e+00,  1.73498650e+00],\n",
       "       [-6.93797026e-01, -7.16125310e-01],\n",
       "       [-1.81384504e-01,  1.11124925e-01],\n",
       "       [-1.10935795e+00, -1.23698657e+00],\n",
       "       [ 3.25899562e-02,  1.87722169e-01],\n",
       "       [ 4.67295964e-01,  2.87298586e-01],\n",
       "       [ 2.16219892e+00,  4.98471295e-02],\n",
       "       [-1.67870327e-01,  4.98471295e-02],\n",
       "       [-1.35373931e+00, -7.16125310e-01],\n",
       "       [ 8.32681177e-02, -8.03681852e-02],\n",
       "       [-4.32522949e-01,  4.98471295e-02],\n",
       "       [-1.12399831e+00, -1.13741015e+00],\n",
       "       [-6.88166119e-01, -9.61236491e-01],\n",
       "       [ 1.50563519e+00,  1.34104098e-01],\n",
       "       [-2.50081567e-01,  4.32833349e-01],\n",
       "       [-7.05058840e-01, -3.33139090e-01],\n",
       "       [-5.05724738e-01, -7.46764208e-01],\n",
       "       [ 8.55204805e-02,  2.10701342e-01],\n",
       "       [-9.17907118e-01, -7.16125310e-01],\n",
       "       [-1.03502998e+00, -9.76555940e-01],\n",
       "       [ 7.74743478e-01, -1.09911153e+00],\n",
       "       [-4.23513498e-01, -5.39951649e-01],\n",
       "       [-6.44245046e-01, -7.16125310e-01],\n",
       "       [-1.39715793e-01,  6.31986184e-01],\n",
       "       [ 8.27674002e-01,  1.41763822e-01],\n",
       "       [ 1.06980300e+00,  2.28648665e+00],\n",
       "       [ 1.66330058e+00,  2.88394516e+00],\n",
       "       [-7.32087192e-01, -7.16125310e-01],\n",
       "       [ 8.72721257e-01,  8.15819569e-01],\n",
       "       [-8.94257309e-01, -1.09911153e+00],\n",
       "       [-7.46727550e-01, -1.40550051e+00],\n",
       "       [ 7.87633923e-02, -7.08465586e-01],\n",
       "       [-7.87270080e-01, -3.33139090e-01],\n",
       "       [ 2.43923954e+00,  1.58179201e+00],\n",
       "       [ 6.15951905e-01,  6.24326459e-01],\n",
       "       [ 3.22531413e+00,  1.58179201e+00],\n",
       "       [-7.17446835e-01, -1.41645980e-01],\n",
       "       [ 3.24333304e+00,  4.64568177e+00],\n",
       "       [-1.00299445e-01, -1.20634767e+00],\n",
       "       [-4.67434571e-01,  4.98471295e-02],\n",
       "       [-1.81384504e-01,  8.77097364e-01],\n",
       "       [-1.11836740e+00,  8.15819569e-01],\n",
       "       [-1.93772499e-01, -4.55694681e-01],\n",
       "       [-1.43094337e-01,  2.41340239e-01],\n",
       "       [-2.77109920e-01,  4.98471295e-02],\n",
       "       [ 1.12548833e-01,  8.15819569e-01],\n",
       "       [ 3.70444367e-01, -5.78250271e-01],\n",
       "       [-3.49185527e-01, -4.86333578e-01],\n",
       "       [ 1.00335830e+00, -2.87180744e-01],\n",
       "       [-2.52333930e-01, -1.72284878e-01],\n",
       "       [-8.18803158e-01, -7.16125310e-01],\n",
       "       [-3.52564072e-01, -3.33139090e-01],\n",
       "       [-6.05954879e-01, -7.16125310e-01],\n",
       "       [ 8.25421639e-01,  1.57083271e-01],\n",
       "       [-2.32062665e-01,  4.32833349e-01],\n",
       "       [-1.06543688e+00, -1.29060464e+00],\n",
       "       [-2.92876459e-01,  1.03465200e-01]])"
      ]
     },
     "execution_count": 22,
     "metadata": {},
     "output_type": "execute_result"
    }
   ],
   "source": [
    "xtrain_scalled"
   ]
  },
  {
   "cell_type": "markdown",
   "id": "31c51184",
   "metadata": {},
   "source": [
    "**Scalled data in numpy array format thats whay convertng the array into DataFrame**"
   ]
  },
  {
   "cell_type": "code",
   "execution_count": 31,
   "id": "727d593d",
   "metadata": {},
   "outputs": [
    {
     "data": {
      "text/html": [
       "<div>\n",
       "<style scoped>\n",
       "    .dataframe tbody tr th:only-of-type {\n",
       "        vertical-align: middle;\n",
       "    }\n",
       "\n",
       "    .dataframe tbody tr th {\n",
       "        vertical-align: top;\n",
       "    }\n",
       "\n",
       "    .dataframe thead th {\n",
       "        text-align: right;\n",
       "    }\n",
       "</style>\n",
       "<table border=\"1\" class=\"dataframe\">\n",
       "  <thead>\n",
       "    <tr style=\"text-align: right;\">\n",
       "      <th></th>\n",
       "      <th>total_bill</th>\n",
       "      <th>tip</th>\n",
       "    </tr>\n",
       "  </thead>\n",
       "  <tbody>\n",
       "    <tr>\n",
       "      <th>0</th>\n",
       "      <td>-0.286119</td>\n",
       "      <td>-1.474438</td>\n",
       "    </tr>\n",
       "    <tr>\n",
       "      <th>1</th>\n",
       "      <td>0.026959</td>\n",
       "      <td>-0.716125</td>\n",
       "    </tr>\n",
       "    <tr>\n",
       "      <th>2</th>\n",
       "      <td>1.371620</td>\n",
       "      <td>1.198806</td>\n",
       "    </tr>\n",
       "    <tr>\n",
       "      <th>3</th>\n",
       "      <td>-0.622848</td>\n",
       "      <td>0.049847</td>\n",
       "    </tr>\n",
       "    <tr>\n",
       "      <th>4</th>\n",
       "      <td>-0.367204</td>\n",
       "      <td>-0.333139</td>\n",
       "    </tr>\n",
       "    <tr>\n",
       "      <th>...</th>\n",
       "      <td>...</td>\n",
       "      <td>...</td>\n",
       "    </tr>\n",
       "    <tr>\n",
       "      <th>190</th>\n",
       "      <td>-0.605955</td>\n",
       "      <td>-0.716125</td>\n",
       "    </tr>\n",
       "    <tr>\n",
       "      <th>191</th>\n",
       "      <td>0.825422</td>\n",
       "      <td>0.157083</td>\n",
       "    </tr>\n",
       "    <tr>\n",
       "      <th>192</th>\n",
       "      <td>-0.232063</td>\n",
       "      <td>0.432833</td>\n",
       "    </tr>\n",
       "    <tr>\n",
       "      <th>193</th>\n",
       "      <td>-1.065437</td>\n",
       "      <td>-1.290605</td>\n",
       "    </tr>\n",
       "    <tr>\n",
       "      <th>194</th>\n",
       "      <td>-0.292876</td>\n",
       "      <td>0.103465</td>\n",
       "    </tr>\n",
       "  </tbody>\n",
       "</table>\n",
       "<p>195 rows × 2 columns</p>\n",
       "</div>"
      ],
      "text/plain": [
       "     total_bill       tip\n",
       "0     -0.286119 -1.474438\n",
       "1      0.026959 -0.716125\n",
       "2      1.371620  1.198806\n",
       "3     -0.622848  0.049847\n",
       "4     -0.367204 -0.333139\n",
       "..          ...       ...\n",
       "190   -0.605955 -0.716125\n",
       "191    0.825422  0.157083\n",
       "192   -0.232063  0.432833\n",
       "193   -1.065437 -1.290605\n",
       "194   -0.292876  0.103465\n",
       "\n",
       "[195 rows x 2 columns]"
      ]
     },
     "execution_count": 31,
     "metadata": {},
     "output_type": "execute_result"
    }
   ],
   "source": [
    "xtrain_scalled = pd.DataFrame(xtrain_scalled,columns=xtrain.columns)\n",
    "xtest_scalled = pd.DataFrame(xtest_scalled,columns=xtest.columns)\n",
    "xtrain_scalled"
   ]
  },
  {
   "cell_type": "code",
   "execution_count": 32,
   "id": "05a11097",
   "metadata": {},
   "outputs": [
    {
     "data": {
      "text/html": [
       "<div>\n",
       "<style scoped>\n",
       "    .dataframe tbody tr th:only-of-type {\n",
       "        vertical-align: middle;\n",
       "    }\n",
       "\n",
       "    .dataframe tbody tr th {\n",
       "        vertical-align: top;\n",
       "    }\n",
       "\n",
       "    .dataframe thead th {\n",
       "        text-align: right;\n",
       "    }\n",
       "</style>\n",
       "<table border=\"1\" class=\"dataframe\">\n",
       "  <thead>\n",
       "    <tr style=\"text-align: right;\">\n",
       "      <th></th>\n",
       "      <th>total_bill</th>\n",
       "      <th>tip</th>\n",
       "    </tr>\n",
       "  </thead>\n",
       "  <tbody>\n",
       "    <tr>\n",
       "      <th>count</th>\n",
       "      <td>195.000000</td>\n",
       "      <td>195.000000</td>\n",
       "    </tr>\n",
       "    <tr>\n",
       "      <th>mean</th>\n",
       "      <td>19.530615</td>\n",
       "      <td>2.934923</td>\n",
       "    </tr>\n",
       "    <tr>\n",
       "      <th>std</th>\n",
       "      <td>8.902420</td>\n",
       "      <td>1.308890</td>\n",
       "    </tr>\n",
       "    <tr>\n",
       "      <th>min</th>\n",
       "      <td>5.750000</td>\n",
       "      <td>1.000000</td>\n",
       "    </tr>\n",
       "    <tr>\n",
       "      <th>25%</th>\n",
       "      <td>13.325000</td>\n",
       "      <td>2.000000</td>\n",
       "    </tr>\n",
       "    <tr>\n",
       "      <th>50%</th>\n",
       "      <td>17.290000</td>\n",
       "      <td>2.750000</td>\n",
       "    </tr>\n",
       "    <tr>\n",
       "      <th>75%</th>\n",
       "      <td>23.390000</td>\n",
       "      <td>3.500000</td>\n",
       "    </tr>\n",
       "    <tr>\n",
       "      <th>max</th>\n",
       "      <td>48.330000</td>\n",
       "      <td>9.000000</td>\n",
       "    </tr>\n",
       "  </tbody>\n",
       "</table>\n",
       "</div>"
      ],
      "text/plain": [
       "       total_bill         tip\n",
       "count  195.000000  195.000000\n",
       "mean    19.530615    2.934923\n",
       "std      8.902420    1.308890\n",
       "min      5.750000    1.000000\n",
       "25%     13.325000    2.000000\n",
       "50%     17.290000    2.750000\n",
       "75%     23.390000    3.500000\n",
       "max     48.330000    9.000000"
      ]
     },
     "execution_count": 32,
     "metadata": {},
     "output_type": "execute_result"
    }
   ],
   "source": [
    "xtrain.describe()"
   ]
  },
  {
   "cell_type": "code",
   "execution_count": 33,
   "id": "3b448019",
   "metadata": {},
   "outputs": [
    {
     "data": {
      "text/html": [
       "<div>\n",
       "<style scoped>\n",
       "    .dataframe tbody tr th:only-of-type {\n",
       "        vertical-align: middle;\n",
       "    }\n",
       "\n",
       "    .dataframe tbody tr th {\n",
       "        vertical-align: top;\n",
       "    }\n",
       "\n",
       "    .dataframe thead th {\n",
       "        text-align: right;\n",
       "    }\n",
       "</style>\n",
       "<table border=\"1\" class=\"dataframe\">\n",
       "  <thead>\n",
       "    <tr style=\"text-align: right;\">\n",
       "      <th></th>\n",
       "      <th>total_bill</th>\n",
       "      <th>tip</th>\n",
       "    </tr>\n",
       "  </thead>\n",
       "  <tbody>\n",
       "    <tr>\n",
       "      <th>count</th>\n",
       "      <td>195.0</td>\n",
       "      <td>195.0</td>\n",
       "    </tr>\n",
       "    <tr>\n",
       "      <th>mean</th>\n",
       "      <td>20.0</td>\n",
       "      <td>3.0</td>\n",
       "    </tr>\n",
       "    <tr>\n",
       "      <th>std</th>\n",
       "      <td>9.0</td>\n",
       "      <td>1.0</td>\n",
       "    </tr>\n",
       "    <tr>\n",
       "      <th>min</th>\n",
       "      <td>6.0</td>\n",
       "      <td>1.0</td>\n",
       "    </tr>\n",
       "    <tr>\n",
       "      <th>25%</th>\n",
       "      <td>13.0</td>\n",
       "      <td>2.0</td>\n",
       "    </tr>\n",
       "    <tr>\n",
       "      <th>50%</th>\n",
       "      <td>17.0</td>\n",
       "      <td>3.0</td>\n",
       "    </tr>\n",
       "    <tr>\n",
       "      <th>75%</th>\n",
       "      <td>23.0</td>\n",
       "      <td>4.0</td>\n",
       "    </tr>\n",
       "    <tr>\n",
       "      <th>max</th>\n",
       "      <td>48.0</td>\n",
       "      <td>9.0</td>\n",
       "    </tr>\n",
       "  </tbody>\n",
       "</table>\n",
       "</div>"
      ],
      "text/plain": [
       "       total_bill    tip\n",
       "count       195.0  195.0\n",
       "mean         20.0    3.0\n",
       "std           9.0    1.0\n",
       "min           6.0    1.0\n",
       "25%          13.0    2.0\n",
       "50%          17.0    3.0\n",
       "75%          23.0    4.0\n",
       "max          48.0    9.0"
      ]
     },
     "execution_count": 33,
     "metadata": {},
     "output_type": "execute_result"
    }
   ],
   "source": [
    "np.round(xtrain.describe())"
   ]
  },
  {
   "cell_type": "code",
   "execution_count": 34,
   "id": "700c19f5",
   "metadata": {},
   "outputs": [
    {
     "data": {
      "text/html": [
       "<div>\n",
       "<style scoped>\n",
       "    .dataframe tbody tr th:only-of-type {\n",
       "        vertical-align: middle;\n",
       "    }\n",
       "\n",
       "    .dataframe tbody tr th {\n",
       "        vertical-align: top;\n",
       "    }\n",
       "\n",
       "    .dataframe thead th {\n",
       "        text-align: right;\n",
       "    }\n",
       "</style>\n",
       "<table border=\"1\" class=\"dataframe\">\n",
       "  <thead>\n",
       "    <tr style=\"text-align: right;\">\n",
       "      <th></th>\n",
       "      <th>total_bill</th>\n",
       "      <th>tip</th>\n",
       "    </tr>\n",
       "  </thead>\n",
       "  <tbody>\n",
       "    <tr>\n",
       "      <th>count</th>\n",
       "      <td>195.0</td>\n",
       "      <td>195.0</td>\n",
       "    </tr>\n",
       "    <tr>\n",
       "      <th>mean</th>\n",
       "      <td>-0.0</td>\n",
       "      <td>0.0</td>\n",
       "    </tr>\n",
       "    <tr>\n",
       "      <th>std</th>\n",
       "      <td>1.0</td>\n",
       "      <td>1.0</td>\n",
       "    </tr>\n",
       "    <tr>\n",
       "      <th>min</th>\n",
       "      <td>-2.0</td>\n",
       "      <td>-1.0</td>\n",
       "    </tr>\n",
       "    <tr>\n",
       "      <th>25%</th>\n",
       "      <td>-1.0</td>\n",
       "      <td>-1.0</td>\n",
       "    </tr>\n",
       "    <tr>\n",
       "      <th>50%</th>\n",
       "      <td>-0.0</td>\n",
       "      <td>-0.0</td>\n",
       "    </tr>\n",
       "    <tr>\n",
       "      <th>75%</th>\n",
       "      <td>0.0</td>\n",
       "      <td>0.0</td>\n",
       "    </tr>\n",
       "    <tr>\n",
       "      <th>max</th>\n",
       "      <td>3.0</td>\n",
       "      <td>5.0</td>\n",
       "    </tr>\n",
       "  </tbody>\n",
       "</table>\n",
       "</div>"
      ],
      "text/plain": [
       "       total_bill    tip\n",
       "count       195.0  195.0\n",
       "mean         -0.0    0.0\n",
       "std           1.0    1.0\n",
       "min          -2.0   -1.0\n",
       "25%          -1.0   -1.0\n",
       "50%          -0.0   -0.0\n",
       "75%           0.0    0.0\n",
       "max           3.0    5.0"
      ]
     },
     "execution_count": 34,
     "metadata": {},
     "output_type": "execute_result"
    }
   ],
   "source": [
    "np.round(xtrain_scalled.describe())"
   ]
  },
  {
   "cell_type": "markdown",
   "id": "d3962b77",
   "metadata": {},
   "source": [
    "# Effect of Scalling"
   ]
  },
  {
   "cell_type": "code",
   "execution_count": 36,
   "id": "a69723d7",
   "metadata": {},
   "outputs": [
    {
     "data": {
      "text/plain": [
       "<matplotlib.collections.PathCollection at 0x283288d0c40>"
      ]
     },
     "execution_count": 36,
     "metadata": {},
     "output_type": "execute_result"
    },
    {
     "data": {
      "image/png": "[encoded data removed]",
      "text/plain": [
       "<Figure size 1296x360 with 2 Axes>"
      ]
     },
     "metadata": {
      "needs_background": "light"
     },
     "output_type": "display_data"
    }
   ],
   "source": [
    "\n",
    "\n",
    "fig,(ax1,ax2)  =  plt.subplots(ncols=2,figsize=(18,5))\n",
    "\n",
    "ax1.set_title(\"Before Scalling\",fontsize=18)\n",
    "ax1.scatter(xtrain['total_bill'],xtrain['tip'])\n",
    "\n",
    "\n",
    "ax2.set_title(\"After Standerd Scalled\",fontsize=18)\n",
    "ax2.scatter(xtrain_scalled['total_bill'],xtrain_scalled['tip'],color='red')\n"
   ]
  },
  {
   "cell_type": "code",
   "execution_count": 37,
   "id": "67d6e8e4",
   "metadata": {},
   "outputs": [
    {
     "data": {
      "image/png": "[encoded data removed]",
      "text/plain": [
       "<Figure size 1296x360 with 2 Axes>"
      ]
     },
     "metadata": {
      "needs_background": "light"
     },
     "output_type": "display_data"
    }
   ],
   "source": [
    "fig ,(ax1,ax2)  =  plt.subplots(ncols=2,figsize=(18,5))\n",
    "\n",
    "ax1.set_title(\"Before Scalling\",fontsize=18)\n",
    "sns.kdeplot(xtrain['total_bill'],ax=ax1)\n",
    "sns.kdeplot(xtrain['tip'],ax=ax1)\n",
    "\n",
    "\n",
    "ax2.set_title(\"After Standerd Scalled\",fontsize=18)\n",
    "sns.kdeplot(xtrain_scalled['total_bill'],ax=ax2)\n",
    "sns.kdeplot(xtrain_scalled['tip'],ax=ax2)\n",
    "plt.show()"
   ]
  },
  {
   "cell_type": "markdown",
   "id": "1355d683",
   "metadata": {},
   "source": [
    "# Effect of Outlier"
   ]
  },
  {
   "cell_type": "markdown",
   "id": "3622d4e5",
   "metadata": {},
   "source": [
    "**Adding 3 outlier data into the dataste**"
   ]
  },
  {
   "cell_type": "code",
   "execution_count": 38,
   "id": "57a52238",
   "metadata": {},
   "outputs": [
    {
     "name": "stderr",
     "output_type": "stream",
     "text": [
      "C:\\Users\\Nazrul Amin Seasun\\AppData\\Local\\Temp\\ipykernel_3484\\3018235776.py:1: FutureWarning: The frame.append method is deprecated and will be removed from pandas in a future version. Use pandas.concat instead.\n",
      "  df_outlier = df.append(pd.DataFrame({'total_bill':[1,90,100], 'tip':[70,100,90],'size':[2,3,4] }))\n"
     ]
    },
    {
     "data": {
      "text/plain": [
       "(247, 3)"
      ]
     },
     "execution_count": 38,
     "metadata": {},
     "output_type": "execute_result"
    }
   ],
   "source": [
    "df_outlier = df.append(pd.DataFrame({'total_bill':[1,90,100], 'tip':[70,100,90],'size':[2,3,4] }))\n",
    "df_outlier.shape"
   ]
  },
  {
   "cell_type": "code",
   "execution_count": 39,
   "id": "860a7dff",
   "metadata": {},
   "outputs": [
    {
     "data": {
      "text/plain": [
       "<matplotlib.collections.PathCollection at 0x28328f7ec10>"
      ]
     },
     "execution_count": 39,
     "metadata": {},
     "output_type": "execute_result"
    },
    {
     "data": {
      "image/png": "[encoded data removed]",
      "text/plain": [
       "<Figure size 432x288 with 1 Axes>"
      ]
     },
     "metadata": {
      "needs_background": "light"
     },
     "output_type": "display_data"
    }
   ],
   "source": [
    "plt.scatter(df['total_bill'],df['tip'])"
   ]
  },
  {
   "cell_type": "code",
   "execution_count": 40,
   "id": "e8f34bee",
   "metadata": {},
   "outputs": [
    {
     "data": {
      "text/plain": [
       "((247, 2), (247,))"
      ]
     },
     "execution_count": 40,
     "metadata": {},
     "output_type": "execute_result"
    }
   ],
   "source": [
    "x_2 = df_outlier.drop('size',axis=1)\n",
    "y_2  = df_outlier['size']\n",
    "\n",
    "x_2.shape,y_2.shape"
   ]
  },
  {
   "cell_type": "markdown",
   "id": "d387722b",
   "metadata": {},
   "source": [
    "# what happed if we scalled outlier data?"
   ]
  },
  {
   "cell_type": "code",
   "execution_count": 41,
   "id": "6435b505",
   "metadata": {},
   "outputs": [],
   "source": [
    "from sklearn.model_selection import train_test_split\n",
    "\n",
    "xtrain_2,xtest_2,ytrain_2,ytest_2 = train_test_split(x_2,y_2,test_size=0.2,random_state=1)"
   ]
  },
  {
   "cell_type": "code",
   "execution_count": 42,
   "id": "441cd95e",
   "metadata": {},
   "outputs": [
    {
     "data": {
      "text/plain": [
       "((197, 2), (50, 2))"
      ]
     },
     "execution_count": 42,
     "metadata": {},
     "output_type": "execute_result"
    }
   ],
   "source": [
    "xtrain_2.shape,xtest_2.shape\n"
   ]
  },
  {
   "cell_type": "markdown",
   "id": "6ffabb8d",
   "metadata": {},
   "source": [
    "# StandardScaler in Outlier Data"
   ]
  },
  {
   "cell_type": "code",
   "execution_count": 47,
   "id": "4d07cf2e",
   "metadata": {},
   "outputs": [],
   "source": [
    "from sklearn.preprocessing import StandardScaler\n",
    "\n",
    "scall = StandardScaler()\n",
    "\n",
    "scall.fit(xtrain_2)\n",
    "\n",
    "xtrain_scalled_2 = scall.transform(xtrain_2)\n",
    "xtest_scalled_2 = scall.transform(xtest_2)\n"
   ]
  },
  {
   "cell_type": "code",
   "execution_count": 48,
   "id": "fd4f72a5",
   "metadata": {},
   "outputs": [],
   "source": [
    "#converting into data Frame\n",
    "\n",
    "xtrain_scalled_2 = pd.DataFrame(xtrain_scalled_2,columns=xtrain_2.columns)\n",
    "xtest_scalled_2 = pd.DataFrame(xtest_scalled_2,columns=xtest_2.columns)\n"
   ]
  },
  {
   "cell_type": "code",
   "execution_count": 49,
   "id": "aab5377c",
   "metadata": {},
   "outputs": [
    {
     "name": "stderr",
     "output_type": "stream",
     "text": [
      "C:\\anaconda\\lib\\site-packages\\seaborn\\_decorators.py:36: FutureWarning: Pass the following variables as keyword args: x, y. From version 0.12, the only valid positional argument will be `data`, and passing other arguments without an explicit keyword will result in an error or misinterpretation.\n",
      "  warnings.warn(\n",
      "C:\\anaconda\\lib\\site-packages\\seaborn\\_decorators.py:36: FutureWarning: Pass the following variables as keyword args: x, y. From version 0.12, the only valid positional argument will be `data`, and passing other arguments without an explicit keyword will result in an error or misinterpretation.\n",
      "  warnings.warn(\n"
     ]
    },
    {
     "data": {
      "text/plain": [
       "<AxesSubplot:title={'center':'After Scalling Outlier data'}, xlabel='total_bill', ylabel='tip'>"
      ]
     },
     "execution_count": 49,
     "metadata": {},
     "output_type": "execute_result"
    },
    {
     "data": {
      "image/png": "[encoded data removed]",
      "text/plain": [
       "<Figure size 1080x360 with 2 Axes>"
      ]
     },
     "metadata": {
      "needs_background": "light"
     },
     "output_type": "display_data"
    }
   ],
   "source": [
    "\n",
    "fig,(ax1,ax2) = plt.subplots(ncols=2,figsize=(15,5))\n",
    "\n",
    "ax1.set_title(\"Before Scalling Outlier data\",fontsize=16)\n",
    "sns.scatterplot(xtrain_2['total_bill'],xtrain_2['tip'],ax=ax1)\n",
    "\n",
    "\n",
    "\n",
    "ax2.set_title(\"After Scalling Outlier data\",fontsize=16)\n",
    "sns.scatterplot(xtrain_scalled_2['total_bill'],xtest_scalled_2['tip'],ax =ax2 )\n"
   ]
  },
  {
   "cell_type": "code",
   "execution_count": null,
   "id": "33717c8a",
   "metadata": {},
   "outputs": [],
   "source": []
  },
  {
   "cell_type": "code",
   "execution_count": null,
   "id": "0c151787",
   "metadata": {},
   "outputs": [],
   "source": []
  }
 ],
 "metadata": {
  "kernelspec": {
   "display_name": "Python 3 (ipykernel)",
   "language": "python",
   "name": "python3"
  },
  "language_info": {
   "codemirror_mode": {
    "name": "ipython",
    "version": 3
   },
   "file_extension": ".py",
   "mimetype": "text/x-python",
   "name": "python",
   "nbconvert_exporter": "python",
   "pygments_lexer": "ipython3",
   "version": "3.9.12"
  },
  "varInspector": {
   "cols": {
    "lenName": 16,
    "lenType": 16,
    "lenVar": 40
   },
   "kernels_config": {
    "python": {
     "delete_cmd_postfix": "",
     "delete_cmd_prefix": "del ",
     "library": "var_list.py",
     "varRefreshCmd": "print(var_dic_list())"
    },
    "r": {
     "delete_cmd_postfix": ") ",
     "delete_cmd_prefix": "rm(",
     "library": "var_list.r",
     "varRefreshCmd": "cat(var_dic_list()) "
    }
   },
   "types_to_exclude": [
    "module",
    "function",
    "builtin_function_or_method",
    "instance",
    "_Feature"
   ],
   "window_display": false
  }
 },
 "nbformat": 4,
 "nbformat_minor": 5
}

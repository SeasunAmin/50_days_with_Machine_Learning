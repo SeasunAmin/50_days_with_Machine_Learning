{
 "cells": [
  {
   "cell_type": "markdown",
   "id": "7419c066",
   "metadata": {},
   "source": [
    "# Encoding Numerical Frature\n",
    "\n",
    "* Binning\n",
    "* Binarization "
   ]
  },
  {
   "cell_type": "markdown",
   "id": "6508e28f",
   "metadata": {},
   "source": [
    "## Binning\n",
    "Binning is a technique that accomplishes exactly what it sounds like. It will take a column with continuous numbers and place the numbers in “bins” based on ranges that we determine. This will give us a new categorical variable feature.\n",
    "\n",
    "**Why use benning:**\n",
    "* To handle Outliers\n",
    "* To improve the value spread\n",
    "\n",
    "**Types of Binning:**\n",
    "* Unsupervised Binning.\n",
    "* Supervised Binnig.\n",
    "* Custom Binning."
   ]
  },
  {
   "cell_type": "markdown",
   "id": "d4d83e76",
   "metadata": {},
   "source": [
    "**Unsupervised Binning**\n",
    "* equal width binning.\n",
    "* equal frequency binning.\n",
    "* k mean binning.\n",
    "\n",
    "**Supervised Binnig**\n",
    "* Decision tree binning"
   ]
  },
  {
   "cell_type": "code",
   "execution_count": null,
   "id": "5ca57930",
   "metadata": {},
   "outputs": [],
   "source": []
  }
 ],
 "metadata": {
  "kernelspec": {
   "display_name": "Python 3 (ipykernel)",
   "language": "python",
   "name": "python3"
  },
  "language_info": {
   "codemirror_mode": {
    "name": "ipython",
    "version": 3
   },
   "file_extension": ".py",
   "mimetype": "text/x-python",
   "name": "python",
   "nbconvert_exporter": "python",
   "pygments_lexer": "ipython3",
   "version": "3.9.12"
  },
  "varInspector": {
   "cols": {
    "lenName": 16,
    "lenType": 16,
    "lenVar": 40
   },
   "kernels_config": {
    "python": {
     "delete_cmd_postfix": "",
     "delete_cmd_prefix": "del ",
     "library": "var_list.py",
     "varRefreshCmd": "print(var_dic_list())"
    },
    "r": {
     "delete_cmd_postfix": ") ",
     "delete_cmd_prefix": "rm(",
     "library": "var_list.r",
     "varRefreshCmd": "cat(var_dic_list()) "
    }
   },
   "types_to_exclude": [
    "module",
    "function",
    "builtin_function_or_method",
    "instance",
    "_Feature"
   ],
   "window_display": false
  }
 },
 "nbformat": 4,
 "nbformat_minor": 5
}
